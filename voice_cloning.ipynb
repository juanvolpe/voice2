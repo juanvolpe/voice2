{
  "cells": [
    {
      "cell_type": "code",
      "execution_count": null,
      "metadata": {
        "vscode": {
          "languageId": "plaintext"
        }
      },
      "outputs": [],
      "source": [
        "# 🎙️ Voice Cloning with Tortoise TTS\n",
        "\n",
        "This notebook allows you to clone voices using Tortoise TTS. Upload your voice samples and generate speech in the voice of your choice.\n",
        "\n",
        "## Setup Instructions\n",
        "1. Mount Google Drive\n",
        "2. Clone the repository\n",
        "3. Install dependencies\n",
        "4. Upload voice samples\n",
        "5. Generate speech\n"
      ]
    },
    {
      "cell_type": "code",
      "execution_count": null,
      "metadata": {},
      "outputs": [],
      "source": [
        "# Mount Google Drive\n",
        "from google.colab import drive\n",
        "drive.mount('/content/drive')\n"
      ]
    },
    {
      "cell_type": "code",
      "execution_count": null,
      "metadata": {},
      "outputs": [],
      "source": [
        "# Clone repository and install dependencies\n",
        "!git clone https://github.com/juanvolpe/voice2.git\n",
        "!pip install -r voice2/requirements.txt\n",
        "!pip install git+https://github.com/jnordberg/tortoise-tts.git\n",
        "\n",
        "# Set up Hugging Face token from Colab secrets\n",
        "from google.colab import userdata\n",
        "import os\n",
        "\n",
        "# Get the token from Colab secrets\n",
        "hf_token = userdata.get('HF_TOKEN')\n",
        "if hf_token:\n",
        "    os.environ['HF_TOKEN'] = hf_token\n",
        "    print(\"✅ Hugging Face token set successfully\")\n",
        "    # Login to Hugging Face\n",
        "    from huggingface_hub import login\n",
        "    login(token=hf_token)\n",
        "else:\n",
        "    print(\"⚠️ Hugging Face token not found in Colab secrets\")\n"
      ]
    },
    {
      "cell_type": "code",
      "execution_count": null,
      "metadata": {},
      "outputs": [],
      "source": [
        "import os\n",
        "import torch\n",
        "import torchaudio\n",
        "from IPython.display import Audio, display\n",
        "from google.colab import files\n",
        "from tortoise.api import TextToSpeech\n",
        "from tortoise.utils.audio import load_audio, load_voice, load_voices\n",
        "\n",
        "# Check if CUDA is available\n",
        "device = \"cuda\" if torch.cuda.is_available() else \"cpu\"\n",
        "print(f\"Using device: {device}\")\n"
      ]
    },
    {
      "cell_type": "code",
      "execution_count": null,
      "metadata": {},
      "outputs": [],
      "source": [
        "## Upload Voice Samples\n",
        "\n",
        "Upload your voice samples here. The samples should be clear recordings with minimal background noise.\n"
      ]
    },
    {
      "cell_type": "code",
      "execution_count": null,
      "metadata": {},
      "outputs": [],
      "source": [
        "# Create directory for voice samples\n",
        "!mkdir -p voice_samples\n",
        "\n",
        "def upload_voice_samples():\n",
        "    uploaded = files.upload()\n",
        "    for filename in uploaded.keys():\n",
        "        os.rename(filename, f'voice_samples/{filename}')\n",
        "    print(f\"Uploaded {len(uploaded)} files to voice_samples/\")\n",
        "\n",
        "upload_voice_samples()\n"
      ]
    },
    {
      "cell_type": "code",
      "execution_count": null,
      "metadata": {},
      "outputs": [],
      "source": [
        "## Configure Voice Generation Settings\n"
      ]
    },
    {
      "cell_type": "code",
      "execution_count": null,
      "metadata": {},
      "outputs": [],
      "source": []
    }
  ],
  "metadata": {
    "language_info": {
      "name": "python"
    }
  },
  "nbformat": 4,
  "nbformat_minor": 2
}
