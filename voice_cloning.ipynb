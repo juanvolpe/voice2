{
  "cells": [
    {
      "cell_type": "markdown",
      "metadata": {},
      "source": [
        "# \ud83c\udf99\ufe0f Voice Cloning with Tortoise TTS\n",
        "\n",
        "[![Open In Colab](https://colab.research.google.com/assets/colab-badge.svg)](https://colab.research.google.com/github/juanvolpe/voice2/blob/master/voice_cloning.ipynb)\n",
        "\n",
        "This notebook allows you to clone voices using Tortoise TTS, supporting multiple languages and quality presets.\n",
        "\n",
        "## \ud83c\udfaf Features\n",
        "- Voice cloning with Tortoise TTS\n",
        "- Support for 13 languages\n",
        "- Multiple quality presets\n",
        "- GPU acceleration\n",
        "- Easy voice sample management\n",
        "\n",
        "## \ud83d\udcdd Prerequisites\n",
        "1. **Google Colab**: Make sure you're running this in Colab with GPU runtime\n",
        "2. **Voice Samples**: Prepare WAV/MP3 files (5-10 seconds each)\n",
        "3. **Hugging Face Token**: Will be loaded from Colab secrets"
      ]
    },
    {
      "cell_type": "markdown",
      "metadata": {},
      "source": [
        "# Section 1: Setup \ud83d\udd27\n",
        "\n",
        "First, ensure you're using a GPU runtime:\n",
        "1. Click `Runtime` in the menu\n",
        "2. Select `Change runtime type`\n",
        "3. Choose `GPU` from the hardware accelerator dropdown\n",
        "4. Click `Save`"
      ]
    },
    {
      "cell_type": "code",
      "execution_count": null,
      "metadata": {},
      "source": [
        "# Check GPU availability\n",
        "import torch\n",
        "print(\"\ud83d\udd0d Checking GPU configuration...\")\n",
        "print(f\"GPU Available: {'\u2705' if torch.cuda.is_available() else '\u274c'}\")\n",
        "if torch.cuda.is_available():\n",
        "    print(f\"Device: {torch.cuda.get_device_name(0)}\")\n",
        "    print(f\"CUDA Version: {torch.version.cuda}\")\n",
        "else:\n",
        "    print(\"\\n\u26a0\ufe0f No GPU detected! Please change runtime to GPU for better performance:\")\n",
        "    print(\"1. Runtime > Change runtime type\")\n",
        "    print(\"2. Select GPU from Hardware accelerator dropdown\")\n",
        "    print(\"3. Click Save and restart runtime\")"
      ]
    }
  ],
  "metadata": {
    "accelerator": "GPU",
    "colab": {
      "name": "Voice Cloning with Tortoise TTS",
      "provenance": []
    },
    "kernelspec": {
      "display_name": "Python 3",
      "language": "python",
      "name": "python3"
    }
  },
  "nbformat": 4,
  "nbformat_minor": 0
}