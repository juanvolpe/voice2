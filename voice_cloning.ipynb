{
  "cells": [
    {
      "cell_type": "markdown",
      "metadata": {},
      "source": [
        "#  Voice Cloning with Tortoise TTS\n",
        "\n",
        "This notebook demonstrates voice cloning using Tortoise TTS in Google Colab."
      ]
    }
  ],
  "metadata": {
    "colab": {
      "name": "Voice Cloning with Tortoise TTS",
      "provenance": []
    },
    "kernelspec": {
      "display_name": "Python 3",
      "language": "python",
      "name": "python3"
    }
  },
  "nbformat": 4,
  "nbformat_minor": 0
}