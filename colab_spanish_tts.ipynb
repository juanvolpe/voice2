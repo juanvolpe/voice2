{
  "cells": [
    {
      "cell_type": "markdown",
      "metadata": {
        "colab_type": "text",
        "id": "intro"
      },
      "source": [
        "# Spanish Voice Cloning with Tortoise TTS\n",
        "\n",
        "<a href=\"https://colab.research.google.com/github/juanvolpe/voiceJuan/blob/main/colab_spanish_tts.ipynb\" target=\"_parent\">\n",
        "  <img src=\"https://colab.research.google.com/assets/colab-badge.svg\" alt=\"Open In Colab\"/>\n",
        "</a>\n",
        "\n",
        "This notebook will help you:\n",
        "1. Set up the Spanish voice cloning system\n",
        "2. Upload your voice samples\n",
        "3. Generate Spanish speech with your voice\n",
        "\n",
        "Let us begin with the setup:"
      ]
    },
    {
      "cell_type": "code",
      "execution_count": null,
      "metadata": {},
      "outputs": [],
      "source": [
        "## Hugging Face Token Setup\n",
        "\n",
        "This notebook uses your Hugging Face token to download models. The token should be set in one of these ways:\n",
        "\n",
        "1. **Colab Secrets (Recommended)**: \n",
        "   - Already set up as \"HF_TOKEN\" in your Colab secrets ✅\n",
        "   - No additional setup needed!\n",
        "\n",
        "2. Alternative: Environment File\n",
        "   - Only needed if not using Colab secrets\n",
        "   - Create a `.env` file with `HF_TOKEN=your_token_here`\n",
        "\n",
        "The code will automatically check Colab secrets first.\n"
      ]
    },
    {
      "cell_type": "code",
      "execution_count": null,
      "metadata": {},
      "outputs": [],
      "source": [
        "# Get Hugging Face token from Colab secrets\n",
        "import os\n",
        "from google.colab import userdata\n",
        "\n",
        "try:\n",
        "    # Get token from Colab secrets\n",
        "    token = userdata.get('HF_TOKEN')\n",
        "    if not token:\n",
        "        raise ValueError(\n",
        "            \"❌ HF_TOKEN not found in Colab secrets!\\n\"\n",
        "            \"Please add your Hugging Face token to Colab secrets as 'HF_TOKEN'\"\n",
        "        )\n",
        "    \n",
        "    # Set for use in the TTS system\n",
        "    os.environ['HF_TOKEN'] = token\n",
        "    print(\"✅ Found HF token in Colab secrets!\")\n",
        "    print(\"🚀 Token set successfully! Ready to proceed.\")\n",
        "except Exception as e:\n",
        "    print(f\"❌ Error: {str(e)}\")\n",
        "    raise  # Stop execution if no token\n"
      ]
    },
    {
      "cell_type": "code",
      "execution_count": null,
      "metadata": {},
      "outputs": [],
      "source": [
        "# Clone repository and install dependencies\n",
        "!git clone https://github.com/juanvolpe/voiceJuan.git\n",
        "%cd voiceJuan\n",
        "\n",
        "print(\"\\n📦 Installing dependencies...\")\n",
        "!pip install -q -r requirements.txt TTS  # -q for quiet installation\n",
        "\n",
        "print(\"\\n✨ Setup complete! Ready to start voice cloning.\")\n"
      ]
    },
    {
      "cell_type": "code",
      "execution_count": null,
      "metadata": {},
      "outputs": [],
      "source": [
        "# Verify TTS installation\n",
        "print(\"🔍 Checking TTS package...\")\n",
        "!pip list | grep TTS\n",
        "\n",
        "print(\"\\n📦 If TTS is not listed above, run these commands:\")\n",
        "print(\"!pip install -q TTS\")\n",
        "print(\"Then restart the runtime and run all cells from the beginning.\")\n"
      ]
    },
    {
      "cell_type": "code",
      "execution_count": null,
      "metadata": {},
      "outputs": [],
      "source": [
        "## Hugging Face Token Setup\n",
        "\n",
        "This notebook uses your Hugging Face token to download models. The token should be set in one of these ways:\n",
        "\n",
        "1. **Colab Secrets (Recommended)**: \n",
        "   - Already set up as \"HF_TOKEN\" in your Colab secrets ✅\n",
        "   - No additional setup needed!\n",
        "\n",
        "2. Alternative: Environment File\n",
        "   - Only needed if not using Colab secrets\n",
        "   - Create a `.env` file with `HF_TOKEN=your_token_here`\n",
        "\n",
        "The code will automatically check Colab secrets first.\n"
      ]
    },
    {
      "cell_type": "code",
      "execution_count": null,
      "metadata": {},
      "outputs": [],
      "source": [
        "# Check for HF token in Colab secrets or .env file\n",
        "import os\n",
        "from google.colab import userdata\n",
        "from dotenv import load_dotenv\n",
        "\n",
        "def get_hf_token():\n",
        "    \"\"\"Get HF token from Colab secrets or .env file\"\"\"\n",
        "    try:\n",
        "        # Try Colab secrets first\n",
        "        return userdata.get('HF_TOKEN')\n",
        "    except Exception:\n",
        "        # If not in secrets, try .env file\n",
        "        load_dotenv()\n",
        "        token = os.getenv('HF_TOKEN')\n",
        "        if not token:\n",
        "            raise ValueError(\n",
        "                \"HF_TOKEN not found in Colab secrets or .env file.\\n\"\n",
        "                \"Please add it to Colab secrets or create a .env file.\"\n",
        "            )\n",
        "        return token\n",
        "\n",
        "# Set the token for use in the TTS system\n",
        "os.environ['HF_TOKEN'] = get_hf_token()\n",
        "print(\"✅ Hugging Face token found and set!\")\n"
      ]
    },
    {
      "cell_type": "code",
      "execution_count": null,
      "metadata": {},
      "outputs": [],
      "source": [
        "## Important: Hugging Face Token Setup\n",
        "\n",
        "Before running this notebook, you need to set up your Hugging Face token:\n",
        "\n",
        "1. Go to [Hugging Face](https://huggingface.co/settings/tokens)\n",
        "2. Create a new token (or use an existing one)\n",
        "3. Click the folder icon on the left sidebar in Colab\n",
        "4. Click the \"Files\" tab\n",
        "5. Click the three dots next to \"Files\" and select \"Mount Drive\"\n",
        "6. Create a new file called `.env` with:\n",
        "```\n",
        "HF_TOKEN=your_token_here\n",
        "```\n",
        "\n",
        "This token is needed to download the Tortoise TTS models.\n"
      ]
    },
    {
      "cell_type": "code",
      "execution_count": null,
      "metadata": {},
      "outputs": [],
      "source": [
        "# Set up Hugging Face token\n",
        "import os\n",
        "from google.colab import files\n",
        "\n",
        "def setup_hf_token():\n",
        "    \"\"\"Set up Hugging Face token from .env file or user input\"\"\"\n",
        "    if os.path.exists('.env'):\n",
        "        print(\"Found existing .env file\")\n",
        "        return\n",
        "    \n",
        "    print(\"Please enter your Hugging Face token (from https://huggingface.co/settings/tokens):\")\n",
        "    token = input().strip()\n",
        "    \n",
        "    with open('.env', 'w') as f:\n",
        "        f.write(f\"HF_TOKEN={token}\")\n",
        "    print(\"\\nToken saved to .env file\")\n",
        "\n",
        "setup_hf_token()\n"
      ]
    },
    {
      "cell_type": "code",
      "execution_count": null,
      "metadata": {
        "id": "setup"
      },
      "outputs": [],
      "source": [
        "# Check version and setup\n",
        "import requests\n",
        "\n",
        "def get_latest_commit():\n",
        "    repo_api = \"https://api.github.com/repos/juanvolpe/voiceJuan/commits/main\"\n",
        "    response = requests.get(repo_api)\n",
        "    if response.status_code == 200:\n",
        "        return response.json()['sha']\n",
        "    return None\n",
        "\n",
        "# Clone repository\n",
        "!git clone https://github.com/juanvolpe/voiceJuan.git\n",
        "%cd voiceJuan\n",
        "\n",
        "# Check version\n",
        "latest_commit = get_latest_commit()\n",
        "if latest_commit:\n",
        "    print(f\"\\nLatest GitHub commit: {latest_commit}\")\n",
        "    print(\"\\nIf you want the latest version:\")\n",
        "    print(\"1. File → Reset runtime\")\n",
        "    print(\"2. Runtime → Run all\")\n",
        "\n",
        "# Install dependencies\n",
        "!pip install -r requirements.txt"
      ]
    },
    {
      "cell_type": "markdown",
      "metadata": {
        "colab_type": "text",
        "id": "upload_intro"
      },
      "source": [
        "## Upload Voice Samples\n",
        "\n",
        "Please prepare your WAV files with these requirements:\n",
        "- Clear Spanish speech\n",
        "- WAV format\n",
        "- Good quality audio\n",
        "\n",
        "Use the \"Choose Files\" button below to upload your samples:"
      ]
    },
    {
      "cell_type": "code",
      "execution_count": null,
      "metadata": {
        "id": "upload"
      },
      "outputs": [],
      "source": [
        "from google.colab import files\n",
        "import os\n",
        "\n",
        "# Create directories\n",
        "!mkdir -p tortoise/voices/juan_es/samples\n",
        "\n",
        "# Upload interface\n",
        "print(\"Please upload your WAV files...\")\n",
        "uploaded = files.upload()\n",
        "\n",
        "# Save files\n",
        "for filename in uploaded.keys():\n",
        "    if filename.endswith('.wav'):\n",
        "        path = f'tortoise/voices/juan_es/samples/{filename}'\n",
        "        with open(path, 'wb') as f:\n",
        "            f.write(uploaded[filename])\n",
        "        print(f'Saved {filename}')\n",
        "\n",
        "# List all uploaded samples\n",
        "print(\"\\nUploaded voice samples:\")\n",
        "!ls tortoise/voices/juan_es/samples/"
      ]
    },
    {
      "cell_type": "markdown",
      "metadata": {
        "colab_type": "text",
        "id": "generate_intro"
      },
      "source": [
        "## Generate Speech\n",
        "\n",
        "Ready to generate speech with your voice samples! You will have two options:\n",
        "1. Use existing voice cache (faster)\n",
        "2. Reprocess voice samples (choose this if you added new samples)\n",
        "\n",
        "Run the code below to begin:"
      ]
    },
    {
      "cell_type": "code",
      "execution_count": null,
      "metadata": {
        "id": "generate"
      },
      "outputs": [],
      "source": [
        "from spanish_tortoise import SpanishTTS\n",
        "from IPython.display import Audio\n",
        "\n",
        "# Initialize TTS\n",
        "tts = SpanishTTS()  # Will ask about cache usage\n",
        "\n",
        "# Get text input\n",
        "text = input(\"Enter Spanish text: \")\n",
        "\n",
        "# Available presets\n",
        "presets = ['ultra_fast', 'fast', 'standard', 'high_quality']\n",
        "print(\"\\nAvailable quality presets:\")\n",
        "for i, p in enumerate(presets, 1):\n",
        "    print(f\"{i}. {p}\")\n",
        "\n",
        "# Get preset choice\n",
        "while True:\n",
        "    choice = input(\"\\nSelect quality (1-4) [default=2]: \").strip()\n",
        "    if not choice:\n",
        "        preset = 'fast'\n",
        "        break\n",
        "    try:\n",
        "        idx = int(choice) - 1\n",
        "        if 0 <= idx < len(presets):\n",
        "            preset = presets[idx]\n",
        "            break\n",
        "    except ValueError:\n",
        "        pass\n",
        "    print(\"Please enter a number between 1 and 4\")\n",
        "\n",
        "# Generate speech\n",
        "output_file = tts.generate_speech(text, preset=preset)\n",
        "\n",
        "# Play the generated audio\n",
        "Audio(output_file)"
      ]
    },
    {
      "cell_type": "markdown",
      "metadata": {
        "colab_type": "text",
        "id": "download_intro"
      },
      "source": [
        "## Download Generated Audio\n",
        "\n",
        "Click below to save the generated audio file to your computer:"
      ]
    },
    {
      "cell_type": "code",
      "execution_count": null,
      "metadata": {
        "id": "download"
      },
      "outputs": [],
      "source": [
        "files.download(output_file)"
      ]
    }
  ],
  "metadata": {
    "colab": {
      "collapsed_sections": [],
      "name": "Spanish Voice Cloning with Tortoise TTS",
      "provenance": [],
      "toc_visible": true
    },
    "kernelspec": {
      "display_name": "Python 3",
      "name": "python3"
    },
    "language_info": {
      "name": "python"
    }
  },
  "nbformat": 4,
  "nbformat_minor": 0
}
